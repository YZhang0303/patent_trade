{
 "cells": [
  {
   "cell_type": "code",
   "execution_count": 1,
   "id": "68414ec1",
   "metadata": {},
   "outputs": [],
   "source": [
    "# import pandas as pd\n",
    "# df = pd.read_parquet(\"expanded_df.parquet\")\n",
    "# df['当前法律状态'].value_counts().to_csv('法律状态.csv', encoding='utf-8-sig')\n",
    "# df = df[df['当前法律状态'] == '专利申请权、专利权的转移']\n",
    "# df.to_parquet(\"专利申请权、专利权的转移.parquet\")"
   ]
  },
  {
   "cell_type": "code",
   "execution_count": 2,
   "id": "d08261c5",
   "metadata": {},
   "outputs": [],
   "source": [
    "import pandas as pd\n",
    "df = pd.read_parquet(\"专利申请权、专利权的转移.parquet\")\n",
    "# 添加新列判断是专利申请权的转移还是专利权的转移\n",
    "df['专利权'] = df['状态描述信息'].apply(lambda x: 1 if str(x).startswith('专利权的转移') else 0)\n"
   ]
  },
  {
   "cell_type": "code",
   "execution_count": 3,
   "id": "0ccd915a",
   "metadata": {},
   "outputs": [],
   "source": [
    "# 删除状态描述信息中\"两位数字;\"或\"两位数字 ;\"及之前的内容\n",
    "import re\n",
    "df['状态描述信息'] = df['状态描述信息'].apply(lambda x: re.sub(r'^.*?\\d{2}\\s*;', '', str(x)) if pd.notna(x) else x)\n"
   ]
  },
  {
   "cell_type": "code",
   "execution_count": 4,
   "id": "b5aec59d",
   "metadata": {},
   "outputs": [],
   "source": [
    "# 提取登记生效日并删除相关信息\n",
    "import re\n",
    "\n",
    "# 提取登记生效日\n",
    "df['登记生效日'] = df['状态描述信息'].apply(\n",
    "    lambda x: re.search(r'登记生效日:(\\d{8})', str(x)).group(1) if re.search(r'登记生效日:(\\d{8})', str(x)) else None\n",
    ")\n",
    "\n",
    "# 删除状态描述信息中的登记生效日信息\n",
    "df['状态描述信息'] = df['状态描述信息'].apply(\n",
    "    lambda x: re.sub(r'登记生效日:\\d{8}\\s*;?\\s*', '', str(x)) if pd.notna(x) else x\n",
    ")\n"
   ]
  },
  {
   "cell_type": "code",
   "execution_count": 5,
   "id": "343f0e7e",
   "metadata": {},
   "outputs": [],
   "source": [
    "# 统一变更前和变更后的格式\n",
    "df['状态描述信息'] = df['状态描述信息'].apply(\n",
    "    lambda x: re.sub(r'变更前(?!\\s*;)', '变更前 ;', str(x)) if pd.notna(x) else x\n",
    ")\n",
    "df['状态描述信息'] = df['状态描述信息'].apply(\n",
    "    lambda x: re.sub(r'变更后(?!\\s*;)', '变更后 ;', str(x)) if pd.notna(x) else x\n",
    ")\n"
   ]
  },
  {
   "cell_type": "code",
   "execution_count": 9,
   "id": "b673abea",
   "metadata": {},
   "outputs": [],
   "source": [
    "# 删除状态描述信息中的空格，并将分号替换为换行符\n",
    "df['状态描述信息'] = df['状态描述信息'].apply(\n",
    "    lambda x: str(x).replace(' ', '').replace(';', '\\n') if pd.notna(x) else x\n",
    ")\n",
    "\n"
   ]
  },
  {
   "cell_type": "code",
   "execution_count": 14,
   "id": "c6958839",
   "metadata": {},
   "outputs": [],
   "source": [
    "# 确保\"变更后\"前面有换行符\n",
    "df['状态描述信息'] = df['状态描述信息'].apply(\n",
    "    lambda x: re.sub(r'(?<!\\n)变更后', '\\n变更后', str(x)) if pd.notna(x) else x\n",
    ")\n",
    "# 确保除了最开头的\"变更前\"外，其他\"变更前\"前面有换行符\n",
    "df['状态描述信息'] = df['状态描述信息'].apply(\n",
    "    lambda x: re.sub(r'(?<!^)(?<!\\n)变更前', '\\n变更前', str(x)) if pd.notna(x) else x\n",
    ")\n"
   ]
  },
  {
   "cell_type": "code",
   "execution_count": 29,
   "id": "386a6278",
   "metadata": {},
   "outputs": [],
   "source": [
    "# 根据状态描述信息的特征设置type1字段\n",
    "def set_type1(status_info):\n",
    "    if pd.isna(status_info):\n",
    "        return 0\n",
    "    \n",
    "    # 转换为字符串并按换行符分割\n",
    "    lines = str(status_info).split('\\n')\n",
    "    \n",
    "    # 检查是否以\"变更前\"开头且行数为6\n",
    "    if len(lines) == 6 and lines[0].startswith('变更前'):\n",
    "        return 1\n",
    "    else:\n",
    "        return 0\n",
    "\n",
    "df['type1'] = df['状态描述信息'].apply(set_type1)\n",
    "\n",
    "# 根据状态描述信息的特征设置type2字段\n",
    "def set_type2(status_info):\n",
    "    if pd.isna(status_info):\n",
    "        return 0\n",
    "    \n",
    "    # 转换为字符串并按换行符分割\n",
    "    lines = str(status_info).split('\\n')\n",
    "    \n",
    "    # 检查是否以\"变更前\"开头，第二行以\"专利权人\"或\"申请人\"开头，最后一行以\"地址\"开头，且行数为8\n",
    "    if (len(lines) == 8 and \n",
    "        lines[0] == '变更前' and \n",
    "        lines[2] == '变更前' and\n",
    "        lines[4] == '变更后' and\n",
    "        lines[6] == '变更后'):\n",
    "        return 1\n",
    "    else:\n",
    "        return 0\n",
    "\n",
    "df['type2'] = df['状态描述信息'].apply(set_type2)\n",
    "\n"
   ]
  },
  {
   "cell_type": "code",
   "execution_count": 18,
   "id": "e1947702",
   "metadata": {},
   "outputs": [
    {
     "name": "stderr",
     "output_type": "stream",
     "text": [
      "C:\\Users\\zy222\\AppData\\Local\\Temp\\ipykernel_36084\\1859307967.py:36: SettingWithCopyWarning: \n",
      "A value is trying to be set on a copy of a slice from a DataFrame.\n",
      "Try using .loc[row_indexer,col_indexer] = value instead\n",
      "\n",
      "See the caveats in the documentation: https://pandas.pydata.org/pandas-docs/stable/user_guide/indexing.html#returning-a-view-versus-a-copy\n",
      "  type1[['前权利人', '前地址', '后权利人', '后地址']] = type1['状态描述信息'].apply(\n",
      "C:\\Users\\zy222\\AppData\\Local\\Temp\\ipykernel_36084\\1859307967.py:36: SettingWithCopyWarning: \n",
      "A value is trying to be set on a copy of a slice from a DataFrame.\n",
      "Try using .loc[row_indexer,col_indexer] = value instead\n",
      "\n",
      "See the caveats in the documentation: https://pandas.pydata.org/pandas-docs/stable/user_guide/indexing.html#returning-a-view-versus-a-copy\n",
      "  type1[['前权利人', '前地址', '后权利人', '后地址']] = type1['状态描述信息'].apply(\n",
      "C:\\Users\\zy222\\AppData\\Local\\Temp\\ipykernel_36084\\1859307967.py:36: SettingWithCopyWarning: \n",
      "A value is trying to be set on a copy of a slice from a DataFrame.\n",
      "Try using .loc[row_indexer,col_indexer] = value instead\n",
      "\n",
      "See the caveats in the documentation: https://pandas.pydata.org/pandas-docs/stable/user_guide/indexing.html#returning-a-view-versus-a-copy\n",
      "  type1[['前权利人', '前地址', '后权利人', '后地址']] = type1['状态描述信息'].apply(\n",
      "C:\\Users\\zy222\\AppData\\Local\\Temp\\ipykernel_36084\\1859307967.py:36: SettingWithCopyWarning: \n",
      "A value is trying to be set on a copy of a slice from a DataFrame.\n",
      "Try using .loc[row_indexer,col_indexer] = value instead\n",
      "\n",
      "See the caveats in the documentation: https://pandas.pydata.org/pandas-docs/stable/user_guide/indexing.html#returning-a-view-versus-a-copy\n",
      "  type1[['前权利人', '前地址', '后权利人', '后地址']] = type1['状态描述信息'].apply(\n"
     ]
    }
   ],
   "source": [
    "type1 = df[df['type1'] == 1]\n",
    "# 为type1数据框新增四列并提取相应信息\n",
    "def extract_info(status_info):\n",
    "    if pd.isna(status_info):\n",
    "        return None, None, None, None\n",
    "    \n",
    "    lines = str(status_info).split('\\n')\n",
    "    \n",
    "    # 初始化返回值\n",
    "    前权利人 = None\n",
    "    前地址 = None\n",
    "    后权利人 = None\n",
    "    后地址 = None\n",
    "    \n",
    "    # 确保有足够的行数\n",
    "    if len(lines) >= 6:\n",
    "        # 提取第二行\":\"后面的内容作为前权利人\n",
    "        if ':' in lines[1]:\n",
    "            前权利人 = lines[1].split(':', 1)[1].strip()\n",
    "        \n",
    "        # 提取第三行\":\"后面的内容作为前地址\n",
    "        if ':' in lines[2]:\n",
    "            前地址 = lines[2].split(':', 1)[1].strip()\n",
    "        \n",
    "        # 提取第五行\":\"后面的内容作为后权利人\n",
    "        if ':' in lines[4]:\n",
    "            后权利人 = lines[4].split(':', 1)[1].strip()\n",
    "        \n",
    "        # 提取第六行\":\"后面的内容作为后地址\n",
    "        if ':' in lines[5]:\n",
    "            后地址 = lines[5].split(':', 1)[1].strip()\n",
    "    \n",
    "    return 前权利人, 前地址, 后权利人, 后地址\n",
    "\n",
    "# 应用函数并创建新列\n",
    "type1[['前权利人', '前地址', '后权利人', '后地址']] = type1['状态描述信息'].apply(\n",
    "    lambda x: pd.Series(extract_info(x))\n",
    ")\n"
   ]
  },
  {
   "cell_type": "code",
   "execution_count": 30,
   "id": "62728d5d",
   "metadata": {},
   "outputs": [],
   "source": [
    "type2 = df[df['type2'] == 1]\n",
    "# 为type2数据框新增四列并提取相应信息\n",
    "def extract_info_type2(status_info):\n",
    "    if pd.isna(status_info):\n",
    "        return None, None, None, None\n",
    "    \n",
    "    lines = str(status_info).split('\\n')\n",
    "    \n",
    "    # 初始化返回值\n",
    "    前权利人 = None\n",
    "    前地址 = None\n",
    "    后权利人 = None\n",
    "    后地址 = None\n",
    "    \n",
    "    # 确保有足够的行数\n",
    "    if len(lines) >= 8:\n",
    "        # 提取第二行\":\"后面的内容作为前权利人\n",
    "        if ':' in lines[1]:\n",
    "            前权利人 = lines[1].split(':', 1)[1].strip()\n",
    "        \n",
    "        # 提取第四行\":\"后面的内容作为前地址\n",
    "        if ':' in lines[3]:\n",
    "            前地址 = lines[3].split(':', 1)[1].strip()\n",
    "        \n",
    "        # 提取第六行\":\"后面的内容作为后权利人\n",
    "        if ':' in lines[5]:\n",
    "            后权利人 = lines[5].split(':', 1)[1].strip()\n",
    "        \n",
    "        # 提取第八行\":\"后面的内容作为后地址\n",
    "        if ':' in lines[7]:\n",
    "            后地址 = lines[7].split(':', 1)[1].strip()\n",
    "    \n",
    "    return 前权利人, 前地址, 后权利人, 后地址\n",
    "\n",
    "# 应用函数并创建新列\n",
    "type2 = type2.copy()  # 避免SettingWithCopyWarning\n",
    "type2[['前权利人', '前地址', '后权利人', '后地址']] = type2['状态描述信息'].apply(\n",
    "    lambda x: pd.Series(extract_info_type2(x))\n",
    ")\n"
   ]
  },
  {
   "cell_type": "code",
   "execution_count": 20,
   "id": "01143891",
   "metadata": {},
   "outputs": [],
   "source": [
    "type1.sample(100).to_excel(\"type1_sample.xlsx\")\n",
    "df[df['type1'] == 0].sample(100).to_excel(\"type0_sample.xlsx\")"
   ]
  },
  {
   "cell_type": "code",
   "execution_count": 31,
   "id": "3a77ab1c",
   "metadata": {},
   "outputs": [],
   "source": [
    "type2.sample(100).to_excel(\"type2_sample.xlsx\")"
   ]
  },
  {
   "cell_type": "code",
   "execution_count": 33,
   "id": "1d986e62",
   "metadata": {},
   "outputs": [
    {
     "data": {
      "text/plain": [
       "0.5991292641529837"
      ]
     },
     "execution_count": 33,
     "metadata": {},
     "output_type": "execute_result"
    }
   ],
   "source": [
    "df[(df['type1'] == 1) | (df['type2'] == 1)].shape[0]/df.shape[0]"
   ]
  },
  {
   "cell_type": "code",
   "execution_count": 34,
   "id": "0e4af8a5",
   "metadata": {},
   "outputs": [],
   "source": [
    "df[(df['type1'] == 0) & (df['type2'] == 0)].sample(100).to_excel(\"type0_sample.xlsx\")"
   ]
  },
  {
   "cell_type": "code",
   "execution_count": 24,
   "id": "cff5b840",
   "metadata": {},
   "outputs": [],
   "source": [
    "df[df['type2'] == 1].sample(100).to_excel(\"type2_sample.xlsx\")"
   ]
  },
  {
   "cell_type": "code",
   "execution_count": 6,
   "id": "3e4e5eba",
   "metadata": {},
   "outputs": [
    {
     "data": {
      "text/plain": [
       "专利权\n",
       "1    0.756639\n",
       "0    0.243361\n",
       "Name: proportion, dtype: float64"
      ]
     },
     "execution_count": 6,
     "metadata": {},
     "output_type": "execute_result"
    }
   ],
   "source": [
    "df['专利权'].value_counts(normalize=1)"
   ]
  },
  {
   "cell_type": "code",
   "execution_count": 17,
   "id": "bd4a3c52",
   "metadata": {},
   "outputs": [],
   "source": [
    "df.sample(100).to_excel(\"专利申请权、专利权的转移sample.xlsx\")"
   ]
  },
  {
   "cell_type": "code",
   "execution_count": 12,
   "id": "0bb5da6e",
   "metadata": {},
   "outputs": [],
   "source": [
    "df.sample(100).to_csv(\"专利申请权、专利权的转移sample.csv\", encoding='utf-8-sig')"
   ]
  }
 ],
 "metadata": {
  "kernelspec": {
   "display_name": "Python 3",
   "language": "python",
   "name": "python3"
  },
  "language_info": {
   "codemirror_mode": {
    "name": "ipython",
    "version": 3
   },
   "file_extension": ".py",
   "mimetype": "text/x-python",
   "name": "python",
   "nbconvert_exporter": "python",
   "pygments_lexer": "ipython3",
   "version": "3.12.3"
  }
 },
 "nbformat": 4,
 "nbformat_minor": 5
}
