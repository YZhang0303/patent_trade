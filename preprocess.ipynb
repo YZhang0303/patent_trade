{
 "cells": [
  {
   "cell_type": "code",
   "execution_count": null,
   "id": "6967e5c2",
   "metadata": {},
   "outputs": [],
   "source": [
    "import polars as pl\n",
    "df = pl.read_csv(\"中国专利转让数据库1998-2024年.csv\")"
   ]
  }
 ],
 "metadata": {
  "language_info": {
   "name": "python"
  }
 },
 "nbformat": 4,
 "nbformat_minor": 5
}
